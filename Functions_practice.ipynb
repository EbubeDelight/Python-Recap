{
  "nbformat": 4,
  "nbformat_minor": 0,
  "metadata": {
    "colab": {
      "provenance": [],
      "authorship_tag": "ABX9TyOrwYUvDJnh2CmAcTQQwqRV",
      "include_colab_link": true
    },
    "kernelspec": {
      "name": "python3",
      "display_name": "Python 3"
    },
    "language_info": {
      "name": "python"
    }
  },
  "cells": [
    {
      "cell_type": "markdown",
      "metadata": {
        "id": "view-in-github",
        "colab_type": "text"
      },
      "source": [
        "<a href=\"https://colab.research.google.com/github/EbubeDelight/Python-Recap/blob/main/Functions_practice.ipynb\" target=\"_parent\"><img src=\"https://colab.research.google.com/assets/colab-badge.svg\" alt=\"Open In Colab\"/></a>"
      ]
    },
    {
      "cell_type": "code",
      "execution_count": 3,
      "metadata": {
        "colab": {
          "base_uri": "https://localhost:8080/"
        },
        "id": "aR4REyD2dqEB",
        "outputId": "436aad9c-7382-4367-fe06-5815e8f9c80f"
      },
      "outputs": [
        {
          "output_type": "execute_result",
          "data": {
            "text/plain": [
              "100"
            ]
          },
          "metadata": {},
          "execution_count": 3
        }
      ],
      "source": [
        "def my_function(x):\n",
        "  return x*5\n",
        "\n",
        "A= 20\n",
        "my_function(A)"
      ]
    },
    {
      "cell_type": "code",
      "source": [
        "# Write a Python function to find the maximum of three numbers.\n",
        "def minimum_num(x, y, z):\n",
        "  return min(x, y, z)\n",
        "\n",
        "minimum_num(20, 5,30)"
      ],
      "metadata": {
        "colab": {
          "base_uri": "https://localhost:8080/"
        },
        "id": "JN_MS6ssdrWL",
        "outputId": "59b50a82-31b8-48ff-dc94-8d960c12ede4"
      },
      "execution_count": 4,
      "outputs": [
        {
          "output_type": "execute_result",
          "data": {
            "text/plain": [
              "5"
            ]
          },
          "metadata": {},
          "execution_count": 4
        }
      ]
    },
    {
      "cell_type": "code",
      "source": [
        "#  Write a Python function to sum all the numbers in a list.\n",
        "def add_list(y):\n",
        "  return sum(y)\n",
        "\n",
        "items = [1, 2, 3, 4]\n",
        "add_list(items)"
      ],
      "metadata": {
        "colab": {
          "base_uri": "https://localhost:8080/"
        },
        "id": "LXbIVJswfFEj",
        "outputId": "4fa2b7db-23c4-45ee-a728-dbb412c1dd5d"
      },
      "execution_count": 5,
      "outputs": [
        {
          "output_type": "execute_result",
          "data": {
            "text/plain": [
              "10"
            ]
          },
          "metadata": {},
          "execution_count": 5
        }
      ]
    },
    {
      "cell_type": "code",
      "source": [
        "#  Write a Python function to sum all the numbers in a list.\n",
        "def add_list(y):\n",
        "  n = 0\n",
        "  for i in y:\n",
        "    n = n+i\n",
        "  return n\n",
        "\n",
        "items = [1, 2, 3, 4]\n",
        "add_list(items)"
      ],
      "metadata": {
        "colab": {
          "base_uri": "https://localhost:8080/"
        },
        "id": "XnpETh22hlT9",
        "outputId": "90524ce2-2b43-411e-edae-0770842477e5"
      },
      "execution_count": 10,
      "outputs": [
        {
          "output_type": "execute_result",
          "data": {
            "text/plain": [
              "10"
            ]
          },
          "metadata": {},
          "execution_count": 10
        }
      ]
    },
    {
      "cell_type": "code",
      "source": [
        "# Write a Python function to multiply all the numbers in a list.\n",
        "def multiply_list(z):\n",
        "  n = 1\n",
        "  for i in z:\n",
        "    n = n*i\n",
        "  return n\n",
        "list_1 = [1, 2, 3, 4]\n",
        "multiply_list(list_1)"
      ],
      "metadata": {
        "colab": {
          "base_uri": "https://localhost:8080/"
        },
        "id": "U4wbsbnog4lM",
        "outputId": "cc6f4a32-441a-4c21-d323-c222b646a491"
      },
      "execution_count": 9,
      "outputs": [
        {
          "output_type": "execute_result",
          "data": {
            "text/plain": [
              "24"
            ]
          },
          "metadata": {},
          "execution_count": 9
        }
      ]
    },
    {
      "cell_type": "code",
      "source": [
        "# Write a Python function to reverse a string.\n",
        "def reverse(string):\n",
        "    # the  slice syntax\n",
        "    reversed_string = string[::-1]\n",
        "    return reversed_string\n",
        "name= \"Onuegbu\"\n",
        "reverse(name)"
      ],
      "metadata": {
        "colab": {
          "base_uri": "https://localhost:8080/",
          "height": 35
        },
        "id": "m32Sq47qid5u",
        "outputId": "6a1fe962-6d59-4669-a088-7bd085c7724b"
      },
      "execution_count": 12,
      "outputs": [
        {
          "output_type": "execute_result",
          "data": {
            "text/plain": [
              "'ubgeunO'"
            ],
            "application/vnd.google.colaboratory.intrinsic+json": {
              "type": "string"
            }
          },
          "metadata": {},
          "execution_count": 12
        }
      ]
    },
    {
      "cell_type": "code",
      "source": [
        "# Write a Python function to calculate the factorial of a number (a non-negative integer). The function accepts the number as an argument.\n",
        "def factorial(x):\n",
        "  n= 1\n",
        "  for i in range(n, x+1):\n",
        "    n= n*i\n",
        "  return n\n",
        "factorial(4)"
      ],
      "metadata": {
        "colab": {
          "base_uri": "https://localhost:8080/"
        },
        "id": "R4c2dQF1nFiS",
        "outputId": "e00705e5-2d1b-4ef1-9200-86e1ad53dd48"
      },
      "execution_count": 51,
      "outputs": [
        {
          "output_type": "execute_result",
          "data": {
            "text/plain": [
              "24"
            ]
          },
          "metadata": {},
          "execution_count": 51
        }
      ]
    },
    {
      "cell_type": "code",
      "source": [
        "#  Write a Python function to check whether a number falls within a given range (less than or equal to 60).\n",
        "def check_num(x):\n",
        "  n = eval(input(\"Enter a number\"))\n",
        "  if n < x:\n",
        "    output = print(n,\" is less than \",x)\n",
        "  elif n > x:\n",
        "    output = print(n,\" is greater than \",x)\n",
        "  else:\n",
        "    output = print(n,\" is equal to \",x)\n",
        "  return output\n",
        "check_num(60)\n",
        "\n",
        "\n"
      ],
      "metadata": {
        "colab": {
          "base_uri": "https://localhost:8080/"
        },
        "id": "0Qs1ngqxognK",
        "outputId": "82cacdcc-6527-4ae2-dd4d-91307badabe1"
      },
      "execution_count": 53,
      "outputs": [
        {
          "output_type": "stream",
          "name": "stdout",
          "text": [
            "Enter a number150\n",
            "150  is greater than  60\n"
          ]
        }
      ]
    },
    {
      "cell_type": "code",
      "source": [],
      "metadata": {
        "id": "AMmZW0dft1YT"
      },
      "execution_count": 53,
      "outputs": []
    }
  ]
}