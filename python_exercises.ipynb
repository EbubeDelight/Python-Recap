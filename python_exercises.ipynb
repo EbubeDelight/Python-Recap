{
 "cells": [
  {
   "cell_type": "markdown",
   "id": "e789c0b1-c547-47fe-b634-531dc1cd4fcf",
   "metadata": {
    "tags": []
   },
   "source": [
    "# Python (basic) exercises\n",
    "Please **use list l** to do the exercises below"
   ]
  },
  {
   "cell_type": "code",
   "execution_count": 1,
   "id": "154cf3a9-2f3d-4949-a522-8ed75d884752",
   "metadata": {},
   "outputs": [],
   "source": [
    "l = [1,-1,2,3,5,-2,-1,2]"
   ]
  },
  {
   "cell_type": "code",
   "execution_count": 9,
   "id": "79a2cc84-92ce-48f9-8a58-f8aa03cc90a3",
   "metadata": {},
   "outputs": [
    {
     "data": {
      "text/plain": [
       "[-4, -6, -3, -2, 0, -7, -6, -3]"
      ]
     },
     "execution_count": 9,
     "metadata": {},
     "output_type": "execute_result"
    }
   ],
   "source": [
    "# exercise: subtract \"5\" (i.e. -5) to each element of the list and save the results in a new list\n",
    "hdhdhhdhdhhd = [x - 5  for x in l]\n",
    "hdhdhhdhdhhd"
   ]
  },
  {
   "cell_type": "code",
   "execution_count": 47,
   "id": "c8af91c5-0ba6-4ef8-8065-323c5e92f6ea",
   "metadata": {},
   "outputs": [
    {
     "name": "stdout",
     "output_type": "stream",
     "text": [
      "[0, -7, -6, -4, -3, -2]\n"
     ]
    },
    {
     "data": {
      "text/plain": [
       "[0, -2, -3, -4, -6, -7]"
      ]
     },
     "execution_count": 47,
     "metadata": {},
     "output_type": "execute_result"
    }
   ],
   "source": [
    "# exercise: get a list of the unique elements, descendently sorted, of above list. \n",
    "# You must not use numpy library for this. \n",
    "# Everything else except utilizing other libraries is allowed.\n",
    "m = list(set(hdhdhhdhdhhd))\n",
    "#print(sorted(m, reverse = True))\n",
    "print(m)\n",
    "m.sort(reverse = True)\n",
    "m\n",
    "#(sorted([(set(hdhdhhdhdhhd))], reverse = True)"
   ]
  },
  {
   "cell_type": "code",
   "execution_count": 48,
   "id": "e357a08f-414a-49db-99f4-301630622fd3",
   "metadata": {},
   "outputs": [
    {
     "name": "stdout",
     "output_type": "stream",
     "text": [
      "[0, -2, 'myelement', -3, -4, -6, -7]\n"
     ]
    }
   ],
   "source": [
    "# exercise: add the element \"myelement\" to the list between the second element (-1) and the third element (2)\n",
    "# Hint: Read https://docs.python.org/3/tutorial/datastructures.html to find the necessary method\n",
    "m.insert(2, 'myelement')\n",
    "print (m)\n"
   ]
  },
  {
   "cell_type": "code",
   "execution_count": 49,
   "id": "41b5e8a5-a422-4174-a4c0-08491f72755c",
   "metadata": {},
   "outputs": [
    {
     "data": {
      "text/plain": [
       "2"
      ]
     },
     "execution_count": 49,
     "metadata": {},
     "output_type": "execute_result"
    }
   ],
   "source": [
    "# exercise: find the index of the element \"myelement\": Hint: Should be tw\n",
    "m.index('myelement')"
   ]
  },
  {
   "cell_type": "code",
   "execution_count": 6,
   "id": "f15ba182-853c-4a2e-ae05-f38ceef3dacb",
   "metadata": {},
   "outputs": [
    {
     "data": {
      "text/plain": [
       "{'apple': 2, 'banana': 10, 'cherry': 5}"
      ]
     },
     "execution_count": 6,
     "metadata": {},
     "output_type": "execute_result"
    }
   ],
   "source": [
    "d = {\"apple\": 1, \"banana\": 10, \"cherry\": 4}\n",
    "# exercise: increase each of the values of above dictionary by one except for the key \"banana\" (keep the value for \"banana\")\n"
   ]
  },
  {
   "cell_type": "code",
   "execution_count": 66,
   "id": "cf7374b9",
   "metadata": {},
   "outputs": [
    {
     "name": "stdout",
     "output_type": "stream",
     "text": [
      "apple 2\n",
      "banana 10\n",
      "cherry 5\n"
     ]
    }
   ],
   "source": [
    "d = {\"apple\": 1, \"banana\": 10, \"cherry\": 4}\n",
    "for key in d: # key, value are iterated\n",
    "    if key == \"banana\":\n",
    "        print( key, d[key])\n",
    "    else:\n",
    "        print(key, d[key]+1)"
   ]
  },
  {
   "cell_type": "code",
   "execution_count": 74,
   "id": "cb4ccd67-4844-469f-88a2-35a8adf24011",
   "metadata": {},
   "outputs": [
    {
     "name": "stdout",
     "output_type": "stream",
     "text": [
      "[1, 2, 3]\n",
      "[1, 2, 3, 1]\n",
      "[1, 2, 3, 1, 'newelement']\n"
     ]
    }
   ],
   "source": [
    "# exercise: below you will find code that \"tried\" to append one element to the list and return the new list.\n",
    "# However, you would have expected different results than the ones you got (see comments below)\n",
    "# Fix the code.\n",
    "l2 = [1,2,3]\n",
    "def append_el(l, e):\n",
    "    l.append(e)\n",
    "    return l\n",
    "print(l2) \n",
    "l3 = print(append_el(l2, 1))\n",
    "l4 = print(append_el(l2, \"newelement\"))\n",
    "#print(l2) # should be [1,2,3] (left unchanged)\n",
    "#print(l3) # should be [1,2,3,1]\n",
    "#print(l4) # should be [1,2,3,\"newelement\"]"
   ]
  },
  {
   "cell_type": "code",
   "execution_count": 154,
   "id": "a1966b3d-bbf0-4873-b854-56e74bd3ff99",
   "metadata": {},
   "outputs": [
    {
     "data": {
      "text/plain": [
       "[4, 5]"
      ]
     },
     "execution_count": 154,
     "metadata": {},
     "output_type": "execute_result"
    }
   ],
   "source": [
    "# exercise: below you will find code that \"tried\" to remove any elements from the list that are smaller than zero.\n",
    "# However, the code fails. Why does it fail? Find a solution.\n",
    "l2 = [4,-2,-1,5]\n",
    "[e for e in l2 if e >= 0]\n",
    "   "
   ]
  },
  {
   "cell_type": "markdown",
   "id": "fafad794-d0e6-4f27-8abc-ecb02aa307ba",
   "metadata": {},
   "source": [
    "## Numpy exercises\n",
    "Please **use matrix X** to do the exercises below"
   ]
  },
  {
   "cell_type": "code",
   "execution_count": 2,
   "id": "f2464a83-9cd1-4fa6-8dcc-903a5af99030",
   "metadata": {},
   "outputs": [],
   "source": [
    "import numpy as np"
   ]
  },
  {
   "cell_type": "code",
   "execution_count": 3,
   "id": "10d06668-6f77-4d0e-abfd-495f0afabb7c",
   "metadata": {},
   "outputs": [
    {
     "data": {
      "text/plain": [
       "array([[ 1, -1,  2,  0],\n",
       "       [ 1,  1,  2, -1],\n",
       "       [ 1,  0,  2, -2]])"
      ]
     },
     "execution_count": 3,
     "metadata": {},
     "output_type": "execute_result"
    }
   ],
   "source": [
    "X = np.array([[1,-1,2,0],[1,1,2,-1],[1,0,2,-2]])\n",
    "X"
   ]
  },
  {
   "cell_type": "code",
   "execution_count": 4,
   "id": "aababacc-8c0b-4ee2-830a-340416d1fd3c",
   "metadata": {},
   "outputs": [
    {
     "data": {
      "text/plain": [
       "array([ 1.,  0.,  2., -1.])"
      ]
     },
     "execution_count": 4,
     "metadata": {},
     "output_type": "execute_result"
    }
   ],
   "source": [
    "# exercise: mean values by column (or column-wise means). Hint: Should be four\n",
    "X.mean(0)"
   ]
  },
  {
   "cell_type": "code",
   "execution_count": 5,
   "id": "5a7758d5-7f2e-4842-8c36-e282d462bfc2",
   "metadata": {},
   "outputs": [
    {
     "data": {
      "text/plain": [
       "array([2, 2, 2])"
      ]
     },
     "execution_count": 5,
     "metadata": {},
     "output_type": "execute_result"
    }
   ],
   "source": [
    "# exercise: maximum values by row. Hint: Should be three\n",
    "X.max(1)"
   ]
  },
  {
   "cell_type": "code",
   "execution_count": 6,
   "id": "dcff10a7-bb3d-40a0-be3c-0bc1f6904349",
   "metadata": {},
   "outputs": [
    {
     "data": {
      "text/plain": [
       "array([[ 1, -1,  2,  0],\n",
       "       [ 1,  1,  2, -1],\n",
       "       [ 1,  0,  2, -2],\n",
       "       [ 0,  0,  0,  0]])"
      ]
     },
     "execution_count": 6,
     "metadata": {},
     "output_type": "execute_result"
    }
   ],
   "source": [
    "# exercise: add (\"stack\") a zero-row vector\n",
    "np.vstack((X, [0,0,0,0]))"
   ]
  },
  {
   "cell_type": "code",
   "execution_count": 22,
   "id": "92fdf387-8466-43d1-9298-69c682d113fd",
   "metadata": {},
   "outputs": [
    {
     "data": {
      "text/plain": [
       "array([ 1,  1,  2, -1])"
      ]
     },
     "execution_count": 22,
     "metadata": {},
     "output_type": "execute_result"
    }
   ],
   "source": [
    "# exercise: extract the second column vector (from X)\n",
    "y = X[1,:]\n",
    "y"
   ]
  },
  {
   "cell_type": "code",
   "execution_count": 24,
   "id": "98cc7e27",
   "metadata": {},
   "outputs": [
    {
     "data": {
      "text/plain": [
       "(4,)"
      ]
     },
     "execution_count": 24,
     "metadata": {},
     "output_type": "execute_result"
    }
   ],
   "source": [
    "y.shape"
   ]
  },
  {
   "cell_type": "code",
   "execution_count": 29,
   "id": "cae7aefe-f13f-42bd-b95c-47206a28ad14",
   "metadata": {},
   "outputs": [
    {
     "name": "stdout",
     "output_type": "stream",
     "text": [
      "[[ 1]\n",
      " [ 1]\n",
      " [ 2]\n",
      " [-1]]\n",
      "the shape of the second column vector w is:  (4, 1)\n"
     ]
    }
   ],
   "source": [
    "# exercise: extract the second column vector (from X)\n",
    "# and ensure that it has the proper size of a column vector ((x,1) and not (x,), where x is the number of components)\n",
    "w = X[1,:].reshape(4,1)\n",
    "print (w)\n",
    "print ('the shape of the second column vector w is: ', (w.shape))"
   ]
  },
  {
   "cell_type": "markdown",
   "id": "0100fb17-207f-4b75-9bb9-6fc97085342b",
   "metadata": {},
   "source": [
    "**Euclidean distance between x and y**\n",
    "\n",
    "$d(x, y) = \\lvert\\lvert x - y \\rvert\\rvert_2 = \\sqrt{\\sum_j (x_j - y_j)^2}$"
   ]
  },
  {
   "cell_type": "code",
   "execution_count": 143,
   "id": "d233446c-3cda-4753-bffa-7dcdb956b6f5",
   "metadata": {},
   "outputs": [
    {
     "data": {
      "text/plain": [
       "array([[0.        , 2.23606798, 2.23606798],\n",
       "       [2.23606798, 0.        , 1.41421356],\n",
       "       [2.23606798, 1.41421356, 0.        ]])"
      ]
     },
     "execution_count": 143,
     "metadata": {},
     "output_type": "execute_result"
    }
   ],
   "source": [
    "# exercise: complete below function which calculates the euclidean distances between the row vectors of X\n",
    "def euclidean_distance(X):\n",
    "    M = X.shape[0]\n",
    "    D = np.zeros((M,M))\n",
    "    for i in range(M):\n",
    "        for j in range(M):\n",
    "            D[i,j] = np.sqrt(np.sum((X[i,] - X[j,])**2, axis=0))\n",
    "    return D\n",
    "\n",
    "euclidean_distance(X)"
   ]
  },
  {
   "cell_type": "code",
   "execution_count": 145,
   "id": "a145ecd7-cf7a-4d74-9e7f-73ffd07bb871",
   "metadata": {},
   "outputs": [
    {
     "data": {
      "text/plain": [
       "array([0, 1, 0, 0], dtype=int64)"
      ]
     },
     "execution_count": 145,
     "metadata": {},
     "output_type": "execute_result"
    }
   ],
   "source": [
    "# exercise: get indexes of the largest values by row\n",
    "np.argmax(X, axis =0)"
   ]
  },
  {
   "cell_type": "code",
   "execution_count": 146,
   "id": "7b08a970-4c3c-45bf-b034-42443c114d0c",
   "metadata": {},
   "outputs": [
    {
     "data": {
      "text/plain": [
       "array([ 1,  0,  0, -1,  0,  1,  1, -1,  1,  0,  1, -1,  0,  1, -1,  0,  0,\n",
       "        1,  1,  1])"
      ]
     },
     "execution_count": 146,
     "metadata": {},
     "output_type": "execute_result"
    }
   ],
   "source": [
    "# exercise: randomly draw 20 numbers with replacement out of the values -1, 0 and 1\n",
    "np.random.seed(777)\n",
    "np.random.choice([-1,0,1], size = 20)\n"
   ]
  },
  {
   "cell_type": "code",
   "execution_count": 34,
   "id": "cec78238-2ca2-43af-a10f-56d496d2478f",
   "metadata": {},
   "outputs": [
    {
     "name": "stdout",
     "output_type": "stream",
     "text": [
      "7.997148453040204\n",
      "-9.986708303440173\n",
      "[ 5.55907249  0.54757714 -6.13885016 -1.64954751 -9.07857533  4.36797779\n",
      " -6.2909947  -1.08115147 -4.51543598 -8.47996347 -7.31503801  4.3401262\n",
      " -8.87419464 -8.27562279 -1.03667194  7.10502584  3.477404   -8.22761159\n",
      " -0.38709072 -1.20422284  1.86446867 -3.54079835 -3.1301048   3.88537127\n",
      "  5.32174536 -1.35066496 -5.72112562 -1.75446604  1.39074322  4.59522715\n",
      " -4.97991358  4.23148939 -9.6499039  -5.89560449  5.88702898 -1.46216412\n",
      "  4.10259666 -6.8087103  -1.72846339 -4.78408286 -2.66128008 -0.26473843\n",
      " -6.41661187 -9.37406839  3.23719968 -9.8135736   5.84566746  4.47245004\n",
      "  2.86418016 -3.48287117 -2.0097441   1.86291856 -9.10058491 -8.63283267\n",
      " -6.86568259 -6.07473601  4.13498637  3.65718939 -1.36154601  7.00260846\n",
      " -3.57770124 -6.84322375  6.14756468  6.45916788 -5.17884482  4.2174837\n",
      " -7.35359067 -8.0120184  -0.89858013  3.70614744  7.90600496 -7.21120279\n",
      "  4.18900018  3.71363934  4.34821479  0.04380649  0.39681427 -8.8714385\n",
      "  6.20521605 -3.95818474 -4.93820523  1.58276413  5.03964557 -7.1081536\n",
      "  5.99888826 -6.24861362 -7.30829362 -5.18366192 -5.66375124  1.50090209\n",
      "  5.73781839  1.11658175  6.44850686  4.97463211 -0.49559764 -3.61040354\n",
      "  1.54974921 -6.31026717  1.00238639 -1.03652353 -9.86195996  2.95379777\n",
      " -3.46926022 -0.21163671 -0.37339925 -5.6636228   4.27873611 -1.34785594\n",
      " -3.61291798 -1.8700341   2.28358155 -2.85846039 -5.86763195 -9.49517533\n",
      " -7.75715665 -5.29572666 -8.48070344 -2.66943709 -7.25492372  0.08445589\n",
      " -9.97707832  2.33100149  3.31630469 -3.55825075 -4.28618733  3.9659535\n",
      " -4.94148011  7.25786946  4.61818026  4.15169135 -4.30366699  0.39592388\n",
      "  5.44991163 -5.20300758  1.07662592 -5.96272458 -6.12976855 -9.65698471\n",
      " -8.6833952  -7.05698003 -1.86891187 -8.31628604 -0.68332314 -3.05096323\n",
      " -6.83978207  5.40744275 -8.11705323  2.97241606 -2.8602973   6.22763005\n",
      "  5.91655901 -3.18506627 -6.89237412  4.15975235  4.38357588  3.766416\n",
      " -9.65582683  4.1260841   6.40373072  6.69499688 -7.96698939 -0.49987316\n",
      " -4.71312521 -6.16600167 -0.40342767 -5.90221325  4.87495626  0.94510773\n",
      " -5.05630671 -8.36446835  5.3158169  -8.20108532 -8.52445636  2.77158874\n",
      " -8.56612246  4.5141267  -1.92088159  0.93721827  7.63554745 -7.53085528\n",
      "  0.42302663  7.52673615 -1.60290774  4.73070261  1.74326509  6.71132309\n",
      " -1.72709634 -1.45849866  0.52353398  0.64790836  4.50580129  6.00189169\n",
      "  5.38564118  4.67971181 -7.86626559  3.8488341   4.71313261  4.96149148\n",
      "  3.22342182  2.38108082 -8.55912934 -4.75445467 -3.00902796 -1.71701158\n",
      " -0.58330953  2.38189667  3.31451219 -6.03626337 -6.90513792 -2.62184941\n",
      " -3.725633    1.60400804 -2.51130756  2.73548028  7.63503769  2.00155037\n",
      "  3.85467048 -7.18306396 -6.44849507 -9.38799637  1.9893153   0.34390624\n",
      " -7.35503514 -1.74514441  5.87939308 -2.13446086 -6.26573635 -7.87795714\n",
      " -5.75810813  1.68073682 -2.99215301 -4.17022115 -8.44479173  7.08199466\n",
      "  3.33280814  2.9534761   5.72739165 -8.76608323 -3.56456649  7.83727316\n",
      "  2.17972866  6.6685878   0.82229099  4.27208761  4.64198001  7.33461314\n",
      " -3.29495624 -2.69997194  4.10982176  3.91173187 -7.7231721   1.6693212\n",
      " -3.10993091 -5.1177247   1.17969669 -9.74317482  4.69975122  1.28518241\n",
      "  5.41193241 -9.39782681 -9.83118345  2.44013952 -6.58778687 -1.02667049\n",
      "  0.20542462  3.06099557 -9.14286028 -9.70606867 -1.85303606  7.32939549\n",
      " -9.4266082   7.468072   -1.63063095 -4.25320055  6.26871367 -8.33053501\n",
      " -8.13336233  1.23606142  2.89811419  1.1364012   7.46875598 -5.12830281\n",
      "  1.9772299  -5.47212459  2.38478144 -8.55428775  7.22210583 -1.31939338\n",
      " -1.51830932  1.71468049 -4.54113351 -0.09846895 -4.09426283  3.29244032\n",
      " -9.48497973 -5.61951983  4.2930378  -9.52303433  6.07236113 -7.80042668\n",
      " -8.08419908 -2.55595884 -4.80579158  3.19251808  1.26549701  4.04254034\n",
      " -7.84919427 -9.6482421  -1.95318342 -7.92066315  4.29876424 -8.91406173\n",
      "  7.71646798  6.80420867 -3.49910937 -8.09348679  6.03646463 -4.93658227\n",
      " -8.83777023 -0.19932757 -9.72008398 -3.425692    5.63962983  5.88742226\n",
      " -2.76735473 -3.5848416  -7.37369736  0.92466146  1.85495476 -8.78762847\n",
      "  5.25414726 -5.31786036  6.79965337 -6.41543423 -2.38229267 -3.70774958\n",
      "  7.69586862  5.39284005  0.8836826   1.87976057  7.47682293 -9.25679072\n",
      " -6.01386031 -1.01995181 -3.03479651 -2.08363123  7.42240704  7.76126467\n",
      " -4.56598023  1.35432068  5.84003398  3.03274195  7.54282745 -4.20044978\n",
      " -8.18183489  2.47961225  3.78892755  0.71122081 -5.13105749 -6.6720024\n",
      " -8.47286516 -0.38304107  2.44013625 -7.03934075  1.13836789  3.64168054\n",
      "  4.78997902 -4.71833005 -4.37311759  2.57401226 -7.88833031 -8.07579479\n",
      " -7.54087985  2.52090931  6.4123468   7.60827319 -8.91010562 -5.87048261\n",
      "  4.23158654 -8.35016421  7.09915086  7.80291056 -8.77251541 -8.32020969\n",
      " -7.95492286  1.96952651  3.14134482 -1.60593726  4.1431274   2.35479273\n",
      " -2.83305953  7.68491222  5.76325135  0.05352994 -3.49900154  3.61617155\n",
      " -9.21563281 -3.4782651  -1.10558108 -0.62979185 -2.28108357 -9.76666073\n",
      " -4.48827874 -4.79030539 -5.49674575 -6.11215669 -2.57938418  3.30317606\n",
      " -3.49090626  0.61226871 -1.21582705 -4.24800276 -4.20266593  4.96881248\n",
      " -7.28015341  5.77607369 -1.4149056  -3.91528893 -6.66439271 -7.49109464\n",
      "  6.29179394 -1.57357644  1.86045386  2.30758227 -9.47913433 -4.63333287\n",
      " -2.87054991 -3.92391385  7.99714845  6.59314008  3.09026281  5.05800628\n",
      " -7.11155833 -9.79402696  0.27530596 -8.68841303  7.03967913  4.58810781\n",
      " -6.01340129 -8.61481947 -5.28412937  3.74629587 -0.96124978 -1.26425027\n",
      "  5.66140208  0.27250927 -3.6237975  -9.9867083   3.12960858 -3.11784541\n",
      "  1.91618896 -8.10828677 -4.67299287 -4.32028498 -9.41734186 -5.14842036\n",
      " -2.4163949  -4.71195071  3.71782508 -6.64330703 -1.3497922  -6.93072594\n",
      " -6.18213739  1.93522491 -9.18122458  5.1446546  -9.54344241 -3.04940785\n",
      "  0.05269256 -3.25903436  7.08210713 -0.67707746  1.41818765 -9.84940178\n",
      " -9.66986023  2.20620415 -6.61152082 -6.49326127 -6.8143599  -7.42011749\n",
      " -2.10173382 -8.24352111 -3.88290031 -2.88307032  4.07588346 -2.87331191\n",
      " -7.40099009  2.23793974  5.6778782   3.91728463  0.23614815  0.30029908\n",
      "  3.79978287 -4.94677818 -9.04154905 -0.07065573 -1.61460292 -4.43869604\n",
      " -9.50748064 -2.75817899  4.20405376  6.13235682 -3.53155008  4.63136085\n",
      "  2.79847194 -6.54640683 -0.80714609 -7.09262099  4.75564299 -5.57807167\n",
      " -7.31271236  1.3636944   7.47965903  2.5131912   6.35290205  7.95207033\n",
      " -9.89502761 -1.97683219 -9.08930102  5.76393219  4.52599471 -1.11682061\n",
      " -3.62221083  2.75002364 -3.37317012  7.78332232 -8.25734376  1.83302023\n",
      " -5.30767494 -8.93017138 -7.91334877  4.33000818 -6.65945769 -2.10900862\n",
      "  7.67472836 -9.78981763 -6.65397134  1.737138    4.63797138 -8.28755688\n",
      " -2.98788677 -6.79311709 -1.35590205  7.56034889 -3.9555742   7.01149229\n",
      "  4.96024941 -6.38645699  5.68706848  4.08262749 -2.73137073  0.37276023\n",
      " -7.85791055 -5.21302838 -6.36112749  1.7911609  -6.94391765 -5.21968629\n",
      " -4.59423955 -4.30202826 -8.44119999 -1.08136138  0.75653446 -1.70859448\n",
      " -1.27771138 -5.1587833   3.24851779  3.70417968  7.01332882  1.24310885\n",
      " -4.11129216 -6.08580776  7.05278502  4.72768252  7.25358534 -2.50282279\n",
      "  4.04865033  7.14459775  4.5849395   5.38392006  2.07756521  7.20635159\n",
      " -5.24213327 -9.66908035  3.48102556  6.77663859 -2.09622216 -2.78237673\n",
      " -5.35630308 -6.37136989  4.99153653 -2.14814549 -3.42736869 -3.74596833\n",
      "  3.0203548  -0.14840023 -4.3798189  -7.17439377 -6.41440051 -4.03594194\n",
      "  2.28315779 -2.83064818 -8.25704344  3.10987461 -0.83189831  6.14532875\n",
      " -6.65682203 -6.13869125 -4.61827986 -9.65565619 -1.68955166 -7.14431628\n",
      " -7.24449724  4.39437725 -2.20186151  2.22838411  6.11127063  4.84583979\n",
      "  2.90366612 -5.42254815  7.19944526  4.05690877 -3.02320273  3.23035901\n",
      "  6.86957005  4.85946212  3.53960378  4.35416725 -1.87394367 -1.86027085\n",
      "  4.7914967   5.61673574 -5.65198222 -6.61247046 -4.63286698  7.71483607\n",
      "  1.23167733  1.3679291  -4.67042796 -4.35534721 -4.59735041  4.23532039\n",
      " -5.45197115 -3.02443121  0.3633024  -6.59412564  2.19552772  5.86868872\n",
      "  1.9146869   5.38687705  5.22911225  1.8119682  -0.79389601  4.89157542\n",
      "  3.31389249  5.02171529  0.03791491 -9.10408201 -0.44077835  2.4462517\n",
      "  0.39377704 -6.19825346 -0.13240586  6.57515306  3.42004299 -4.30746535\n",
      "  6.56103099  2.03799806 -2.38154619  6.14193815  1.35917144 -1.24415481\n",
      " -3.79122193 -5.30492927 -6.97785417  3.26107711 -2.34518879  4.46224897\n",
      "  7.63791208 -2.61542283 -7.6506726  -7.29013077  7.21711812 -2.53968281\n",
      " -7.40723817 -2.41856286 -3.22609366  2.81157339 -3.50332294  5.67240974\n",
      " -7.28035103 -9.694569    1.85273588  1.55934528  2.94288495 -9.85817029\n",
      " -8.67871029  3.72840847  3.80527808 -2.08625712 -1.7369146  -8.74972359\n",
      "  2.96147579  1.95502377  5.92055558 -8.27682265  6.15837029 -5.24177611\n",
      " -2.29667945  0.23253505  7.94146744  5.79225435  1.613087    5.50712138\n",
      "  3.28458973 -0.88780943  1.79773013  1.41325323 -0.95767667 -9.51094195\n",
      "  7.89340217 -3.34419738 -9.72251689  6.77523237 -2.42091721  3.57229346\n",
      " -0.11941908  2.07623914  2.70391787 -6.96236232 -4.42784984  1.37378463\n",
      " -7.66823915  6.03172833  5.12245015 -8.75867287 -4.79670324 -4.10591999\n",
      "  1.68817389  6.09375518 -0.26519471  7.86827771  0.66998585  3.30851944\n",
      "  7.65384083  3.04330547  2.93448955  3.65871117 -5.05705656  3.65821047\n",
      "  1.06406433 -9.23780469  1.81494183  6.43891979  6.56873668 -3.20051856\n",
      " -3.62004944 -4.61199231 -7.93860238  0.09705349  3.93798028 -2.69231902\n",
      " -2.77296269 -9.98444823 -4.6781809   1.35019986 -8.13631006 -6.90858254\n",
      " -9.6546801  -7.69472139 -7.52512492  7.11230804 -0.36166698 -1.7135092\n",
      " -9.68706479  1.50402453  4.55554131  4.20200539  3.8353505   7.60102605\n",
      " -2.67727023 -8.76412534  5.43041549 -9.68161509  6.39512531 -1.04047669\n",
      "  5.75811399 -7.89435297  1.36049697  4.68206323  0.74800361 -3.73918123\n",
      " -7.95066174  7.26650018 -0.73453553  7.68508002 -1.58759638 -6.16528451\n",
      "  1.00295434  0.84806963 -6.548874    1.19238921 -7.69470398  4.0138941\n",
      " -1.77164589 -4.99758696  6.35661553 -6.58632417 -1.76098638 -1.3334425\n",
      " -2.85171071 -1.58768807 -2.31027091 -9.87386027  5.71614162 -2.02461786\n",
      "  6.83483954  3.6729322  -5.24553973 -4.51958824  2.16997311  1.55930644\n",
      "  5.68971437  0.73270943  4.84308551  2.33028352 -1.58639659 -1.41357021\n",
      "  4.2542588   6.7923222   2.45903638  7.1900476  -1.76940406 -1.15767267\n",
      " -4.49572968  7.89138482 -1.1282214   0.7810987  -9.71293889  4.24915656\n",
      "  2.60847483 -7.4763655   6.91528348 -3.1372274  -8.68792081  3.53503532\n",
      " -6.90887199  6.27860021 -2.58842049 -9.71648472 -9.42542352  0.80735692\n",
      "  3.10936597 -1.53765837 -3.137419   -7.19737949 -1.18926807  1.0906896\n",
      " -3.67059104 -5.67617633 -9.32704376 -7.76187387 -4.52400385 -9.86989428\n",
      "  6.9974584  -5.86576338  4.07627086  6.26367504  5.69758636 -2.80861389\n",
      "  3.92224712  6.04316365  7.12961772 -4.92483402 -8.52873357 -3.09423827\n",
      " -5.96809736 -6.32438854  1.11020051 -7.66196095 -0.20848579 -9.69743963\n",
      " -7.38604617 -1.08769001  5.99605627 -2.45178513 -0.89827897 -4.80524153\n",
      " -7.02214208 -1.95408396 -7.27349122  6.0118627  -8.55786004  5.81960857\n",
      "  4.08244282 -6.3615931   4.8144705   1.47584481 -7.17809156  0.73229007\n",
      " -5.48980299  7.83529734 -6.21874073  1.18274307 -9.07286774  0.62413834\n",
      " -1.91529852  7.22515533 -5.0562508  -4.74747704 -9.19685066 -4.21300434\n",
      "  3.47704468 -6.43484944 -3.45923548 -3.1096832   3.39440986 -4.23219079\n",
      "  0.88857766 -1.69356055 -2.40939955  4.41411208  5.93795715 -9.4860111\n",
      " -0.73415536 -4.84695976 -6.04395483 -7.73257299 -6.9425607  -1.36320754\n",
      " -4.40095899 -5.08199548 -0.10922956  7.27450038  1.14349012 -7.79665996\n",
      "  0.05663082  0.77976026 -1.49659768  5.70962689 -5.51335619  2.6612108\n",
      "  4.64181591  3.70583015 -3.17141877 -7.34653374 -4.79899427  0.91992232\n",
      " -7.20839015  5.61458109  6.21941433  4.21743771 -0.57382959 -9.39135276\n",
      " -3.180757    3.68283525 -8.07968257  0.334688   -2.75498042  6.21345933\n",
      "  5.6523863   6.54167975 -0.58937934  7.46306048  2.01703594 -8.7935085\n",
      " -6.45343957 -4.5119727  -5.63522064 -4.33495714  7.80283155  1.70971012\n",
      "  6.67762181  4.75909612 -4.38952746  4.10103224 -4.56084496 -2.70363396\n",
      "  5.67227549  7.75638768 -2.42301695 -0.50803704 -7.75424203  0.53281986\n",
      " -7.32119831 -9.56958233 -2.41956324 -2.52793487 -9.13026803 -3.09090691\n",
      "  5.31131083  5.59149279 -5.24730626 -3.89346618 -2.12495123 -1.11199041\n",
      "  6.67483838 -3.48008045  5.58374595  6.60971306]\n"
     ]
    }
   ],
   "source": [
    "# exercise: get thousand random numbers (uniform distribution) between [-10,8),\n",
    "# verify that the random numbers are in the given interval\n",
    "m = np.random.uniform(-10,8, size = 1000)\n",
    "\n",
    "print(m.max())\n",
    "print(m.min())\n",
    "print(m)\n"
   ]
  },
  {
   "cell_type": "markdown",
   "id": "dbedec48-3738-454c-b0b6-6128c43ccfe7",
   "metadata": {},
   "source": [
    "# Pandas and matplotlib exercises"
   ]
  },
  {
   "cell_type": "code",
   "execution_count": 43,
   "id": "5b9e2cbb-4426-4bda-b8b6-5d7eaa6a87d0",
   "metadata": {},
   "outputs": [
    {
     "data": {
      "text/html": [
       "<div>\n",
       "<style scoped>\n",
       "    .dataframe tbody tr th:only-of-type {\n",
       "        vertical-align: middle;\n",
       "    }\n",
       "\n",
       "    .dataframe tbody tr th {\n",
       "        vertical-align: top;\n",
       "    }\n",
       "\n",
       "    .dataframe thead th {\n",
       "        text-align: right;\n",
       "    }\n",
       "</style>\n",
       "<table border=\"1\" class=\"dataframe\">\n",
       "  <thead>\n",
       "    <tr style=\"text-align: right;\">\n",
       "      <th></th>\n",
       "      <th>age</th>\n",
       "      <th>job</th>\n",
       "      <th>marital</th>\n",
       "      <th>education</th>\n",
       "      <th>default</th>\n",
       "      <th>housing</th>\n",
       "      <th>loan</th>\n",
       "      <th>contact</th>\n",
       "      <th>month</th>\n",
       "      <th>day_of_week</th>\n",
       "      <th>...</th>\n",
       "      <th>campaign</th>\n",
       "      <th>pdays</th>\n",
       "      <th>previous</th>\n",
       "      <th>poutcome</th>\n",
       "      <th>emp.var.rate</th>\n",
       "      <th>cons.price.idx</th>\n",
       "      <th>cons.conf.idx</th>\n",
       "      <th>euribor3m</th>\n",
       "      <th>nr.employed</th>\n",
       "      <th>y</th>\n",
       "    </tr>\n",
       "  </thead>\n",
       "  <tbody>\n",
       "    <tr>\n",
       "      <th>0</th>\n",
       "      <td>56</td>\n",
       "      <td>housemaid</td>\n",
       "      <td>married</td>\n",
       "      <td>basic.4y</td>\n",
       "      <td>no</td>\n",
       "      <td>no</td>\n",
       "      <td>no</td>\n",
       "      <td>telephone</td>\n",
       "      <td>may</td>\n",
       "      <td>mon</td>\n",
       "      <td>...</td>\n",
       "      <td>1</td>\n",
       "      <td>999</td>\n",
       "      <td>0</td>\n",
       "      <td>nonexistent</td>\n",
       "      <td>1.1</td>\n",
       "      <td>93.994</td>\n",
       "      <td>-36.4</td>\n",
       "      <td>4.857</td>\n",
       "      <td>5191.0</td>\n",
       "      <td>no</td>\n",
       "    </tr>\n",
       "    <tr>\n",
       "      <th>1</th>\n",
       "      <td>57</td>\n",
       "      <td>services</td>\n",
       "      <td>married</td>\n",
       "      <td>high.school</td>\n",
       "      <td>unknown</td>\n",
       "      <td>no</td>\n",
       "      <td>no</td>\n",
       "      <td>telephone</td>\n",
       "      <td>may</td>\n",
       "      <td>mon</td>\n",
       "      <td>...</td>\n",
       "      <td>1</td>\n",
       "      <td>999</td>\n",
       "      <td>0</td>\n",
       "      <td>nonexistent</td>\n",
       "      <td>1.1</td>\n",
       "      <td>93.994</td>\n",
       "      <td>-36.4</td>\n",
       "      <td>4.857</td>\n",
       "      <td>5191.0</td>\n",
       "      <td>no</td>\n",
       "    </tr>\n",
       "    <tr>\n",
       "      <th>2</th>\n",
       "      <td>37</td>\n",
       "      <td>services</td>\n",
       "      <td>married</td>\n",
       "      <td>high.school</td>\n",
       "      <td>no</td>\n",
       "      <td>yes</td>\n",
       "      <td>no</td>\n",
       "      <td>telephone</td>\n",
       "      <td>may</td>\n",
       "      <td>mon</td>\n",
       "      <td>...</td>\n",
       "      <td>1</td>\n",
       "      <td>999</td>\n",
       "      <td>0</td>\n",
       "      <td>nonexistent</td>\n",
       "      <td>1.1</td>\n",
       "      <td>93.994</td>\n",
       "      <td>-36.4</td>\n",
       "      <td>4.857</td>\n",
       "      <td>5191.0</td>\n",
       "      <td>no</td>\n",
       "    </tr>\n",
       "    <tr>\n",
       "      <th>3</th>\n",
       "      <td>40</td>\n",
       "      <td>admin.</td>\n",
       "      <td>married</td>\n",
       "      <td>basic.6y</td>\n",
       "      <td>no</td>\n",
       "      <td>no</td>\n",
       "      <td>no</td>\n",
       "      <td>telephone</td>\n",
       "      <td>may</td>\n",
       "      <td>mon</td>\n",
       "      <td>...</td>\n",
       "      <td>1</td>\n",
       "      <td>999</td>\n",
       "      <td>0</td>\n",
       "      <td>nonexistent</td>\n",
       "      <td>1.1</td>\n",
       "      <td>93.994</td>\n",
       "      <td>-36.4</td>\n",
       "      <td>4.857</td>\n",
       "      <td>5191.0</td>\n",
       "      <td>no</td>\n",
       "    </tr>\n",
       "    <tr>\n",
       "      <th>4</th>\n",
       "      <td>56</td>\n",
       "      <td>services</td>\n",
       "      <td>married</td>\n",
       "      <td>high.school</td>\n",
       "      <td>no</td>\n",
       "      <td>no</td>\n",
       "      <td>yes</td>\n",
       "      <td>telephone</td>\n",
       "      <td>may</td>\n",
       "      <td>mon</td>\n",
       "      <td>...</td>\n",
       "      <td>1</td>\n",
       "      <td>999</td>\n",
       "      <td>0</td>\n",
       "      <td>nonexistent</td>\n",
       "      <td>1.1</td>\n",
       "      <td>93.994</td>\n",
       "      <td>-36.4</td>\n",
       "      <td>4.857</td>\n",
       "      <td>5191.0</td>\n",
       "      <td>no</td>\n",
       "    </tr>\n",
       "    <tr>\n",
       "      <th>...</th>\n",
       "      <td>...</td>\n",
       "      <td>...</td>\n",
       "      <td>...</td>\n",
       "      <td>...</td>\n",
       "      <td>...</td>\n",
       "      <td>...</td>\n",
       "      <td>...</td>\n",
       "      <td>...</td>\n",
       "      <td>...</td>\n",
       "      <td>...</td>\n",
       "      <td>...</td>\n",
       "      <td>...</td>\n",
       "      <td>...</td>\n",
       "      <td>...</td>\n",
       "      <td>...</td>\n",
       "      <td>...</td>\n",
       "      <td>...</td>\n",
       "      <td>...</td>\n",
       "      <td>...</td>\n",
       "      <td>...</td>\n",
       "      <td>...</td>\n",
       "    </tr>\n",
       "    <tr>\n",
       "      <th>41183</th>\n",
       "      <td>73</td>\n",
       "      <td>retired</td>\n",
       "      <td>married</td>\n",
       "      <td>professional.course</td>\n",
       "      <td>no</td>\n",
       "      <td>yes</td>\n",
       "      <td>no</td>\n",
       "      <td>cellular</td>\n",
       "      <td>nov</td>\n",
       "      <td>fri</td>\n",
       "      <td>...</td>\n",
       "      <td>1</td>\n",
       "      <td>999</td>\n",
       "      <td>0</td>\n",
       "      <td>nonexistent</td>\n",
       "      <td>-1.1</td>\n",
       "      <td>94.767</td>\n",
       "      <td>-50.8</td>\n",
       "      <td>1.028</td>\n",
       "      <td>4963.6</td>\n",
       "      <td>yes</td>\n",
       "    </tr>\n",
       "    <tr>\n",
       "      <th>41184</th>\n",
       "      <td>46</td>\n",
       "      <td>blue-collar</td>\n",
       "      <td>married</td>\n",
       "      <td>professional.course</td>\n",
       "      <td>no</td>\n",
       "      <td>no</td>\n",
       "      <td>no</td>\n",
       "      <td>cellular</td>\n",
       "      <td>nov</td>\n",
       "      <td>fri</td>\n",
       "      <td>...</td>\n",
       "      <td>1</td>\n",
       "      <td>999</td>\n",
       "      <td>0</td>\n",
       "      <td>nonexistent</td>\n",
       "      <td>-1.1</td>\n",
       "      <td>94.767</td>\n",
       "      <td>-50.8</td>\n",
       "      <td>1.028</td>\n",
       "      <td>4963.6</td>\n",
       "      <td>no</td>\n",
       "    </tr>\n",
       "    <tr>\n",
       "      <th>41185</th>\n",
       "      <td>56</td>\n",
       "      <td>retired</td>\n",
       "      <td>married</td>\n",
       "      <td>university.degree</td>\n",
       "      <td>no</td>\n",
       "      <td>yes</td>\n",
       "      <td>no</td>\n",
       "      <td>cellular</td>\n",
       "      <td>nov</td>\n",
       "      <td>fri</td>\n",
       "      <td>...</td>\n",
       "      <td>2</td>\n",
       "      <td>999</td>\n",
       "      <td>0</td>\n",
       "      <td>nonexistent</td>\n",
       "      <td>-1.1</td>\n",
       "      <td>94.767</td>\n",
       "      <td>-50.8</td>\n",
       "      <td>1.028</td>\n",
       "      <td>4963.6</td>\n",
       "      <td>no</td>\n",
       "    </tr>\n",
       "    <tr>\n",
       "      <th>41186</th>\n",
       "      <td>44</td>\n",
       "      <td>technician</td>\n",
       "      <td>married</td>\n",
       "      <td>professional.course</td>\n",
       "      <td>no</td>\n",
       "      <td>no</td>\n",
       "      <td>no</td>\n",
       "      <td>cellular</td>\n",
       "      <td>nov</td>\n",
       "      <td>fri</td>\n",
       "      <td>...</td>\n",
       "      <td>1</td>\n",
       "      <td>999</td>\n",
       "      <td>0</td>\n",
       "      <td>nonexistent</td>\n",
       "      <td>-1.1</td>\n",
       "      <td>94.767</td>\n",
       "      <td>-50.8</td>\n",
       "      <td>1.028</td>\n",
       "      <td>4963.6</td>\n",
       "      <td>yes</td>\n",
       "    </tr>\n",
       "    <tr>\n",
       "      <th>41187</th>\n",
       "      <td>74</td>\n",
       "      <td>retired</td>\n",
       "      <td>married</td>\n",
       "      <td>professional.course</td>\n",
       "      <td>no</td>\n",
       "      <td>yes</td>\n",
       "      <td>no</td>\n",
       "      <td>cellular</td>\n",
       "      <td>nov</td>\n",
       "      <td>fri</td>\n",
       "      <td>...</td>\n",
       "      <td>3</td>\n",
       "      <td>999</td>\n",
       "      <td>1</td>\n",
       "      <td>failure</td>\n",
       "      <td>-1.1</td>\n",
       "      <td>94.767</td>\n",
       "      <td>-50.8</td>\n",
       "      <td>1.028</td>\n",
       "      <td>4963.6</td>\n",
       "      <td>no</td>\n",
       "    </tr>\n",
       "  </tbody>\n",
       "</table>\n",
       "<p>41188 rows × 21 columns</p>\n",
       "</div>"
      ],
      "text/plain": [
       "       age          job  marital            education  default housing loan  \\\n",
       "0       56    housemaid  married             basic.4y       no      no   no   \n",
       "1       57     services  married          high.school  unknown      no   no   \n",
       "2       37     services  married          high.school       no     yes   no   \n",
       "3       40       admin.  married             basic.6y       no      no   no   \n",
       "4       56     services  married          high.school       no      no  yes   \n",
       "...    ...          ...      ...                  ...      ...     ...  ...   \n",
       "41183   73      retired  married  professional.course       no     yes   no   \n",
       "41184   46  blue-collar  married  professional.course       no      no   no   \n",
       "41185   56      retired  married    university.degree       no     yes   no   \n",
       "41186   44   technician  married  professional.course       no      no   no   \n",
       "41187   74      retired  married  professional.course       no     yes   no   \n",
       "\n",
       "         contact month day_of_week  ...  campaign  pdays  previous  \\\n",
       "0      telephone   may         mon  ...         1    999         0   \n",
       "1      telephone   may         mon  ...         1    999         0   \n",
       "2      telephone   may         mon  ...         1    999         0   \n",
       "3      telephone   may         mon  ...         1    999         0   \n",
       "4      telephone   may         mon  ...         1    999         0   \n",
       "...          ...   ...         ...  ...       ...    ...       ...   \n",
       "41183   cellular   nov         fri  ...         1    999         0   \n",
       "41184   cellular   nov         fri  ...         1    999         0   \n",
       "41185   cellular   nov         fri  ...         2    999         0   \n",
       "41186   cellular   nov         fri  ...         1    999         0   \n",
       "41187   cellular   nov         fri  ...         3    999         1   \n",
       "\n",
       "          poutcome emp.var.rate  cons.price.idx  cons.conf.idx  euribor3m  \\\n",
       "0      nonexistent          1.1          93.994          -36.4      4.857   \n",
       "1      nonexistent          1.1          93.994          -36.4      4.857   \n",
       "2      nonexistent          1.1          93.994          -36.4      4.857   \n",
       "3      nonexistent          1.1          93.994          -36.4      4.857   \n",
       "4      nonexistent          1.1          93.994          -36.4      4.857   \n",
       "...            ...          ...             ...            ...        ...   \n",
       "41183  nonexistent         -1.1          94.767          -50.8      1.028   \n",
       "41184  nonexistent         -1.1          94.767          -50.8      1.028   \n",
       "41185  nonexistent         -1.1          94.767          -50.8      1.028   \n",
       "41186  nonexistent         -1.1          94.767          -50.8      1.028   \n",
       "41187      failure         -1.1          94.767          -50.8      1.028   \n",
       "\n",
       "       nr.employed    y  \n",
       "0           5191.0   no  \n",
       "1           5191.0   no  \n",
       "2           5191.0   no  \n",
       "3           5191.0   no  \n",
       "4           5191.0   no  \n",
       "...            ...  ...  \n",
       "41183       4963.6  yes  \n",
       "41184       4963.6   no  \n",
       "41185       4963.6   no  \n",
       "41186       4963.6  yes  \n",
       "41187       4963.6   no  \n",
       "\n",
       "[41188 rows x 21 columns]"
      ]
     },
     "execution_count": 43,
     "metadata": {},
     "output_type": "execute_result"
    }
   ],
   "source": [
    "import pandas as pd\n",
    "\n",
    "df = pd.read_csv(\"C:/Users/Owner/Documents/HNU Course Materials/Winter Semester 23/Big Data and AI/Datasets/bank_marketing/bank-additional/bank-additional/bank-additional-full.csv\", sep=\";\") # build DataFrame from a CSV file\n",
    "df"
   ]
  },
  {
   "cell_type": "code",
   "execution_count": 87,
   "id": "5c43aed8-3942-404e-adc2-a6c1d0825228",
   "metadata": {},
   "outputs": [
    {
     "name": "stdout",
     "output_type": "stream",
     "text": [
      "       age  default housing    y\n",
      "27826   95       no      no   no\n",
      "38022   91       no     yes   no\n",
      "38032   91       no      no   no\n",
      "38452   98  unknown     yes  yes\n",
      "38455   98  unknown     yes  yes\n",
      "38921   94       no      no   no\n",
      "39655   92       no     yes   no\n",
      "39734   92  unknown      no  yes\n",
      "40450   92       no      no  yes\n",
      "40469   92       no      no  yes\n"
     ]
    }
   ],
   "source": [
    "# exercise: get the rows (from df) where age is smaller than 17 or greater than 90.\n",
    "# In the resulting data frame, show columns age, default, housing and y only\n",
    "# Hint: Read https://pandas.pydata.org/docs/user_guide/indexing.html\n",
    "\n",
    "df1 = (df[(df['age']<17) | (df['age']>90)])\n",
    "print(df1[['age', 'default', 'housing', 'y']] )\n"
   ]
  },
  {
   "cell_type": "code",
   "execution_count": 140,
   "id": "06183202-7978-4c2c-a7db-1b32d70a7f8e",
   "metadata": {},
   "outputs": [
    {
     "name": "stdout",
     "output_type": "stream",
     "text": [
      "     y        age\n",
      "0   no  39.911185\n",
      "1  yes  40.913147\n"
     ]
    }
   ],
   "source": [
    "# exercise: get the average age by \"y\". Hint: Expected result is a data frame with two rows and two columns\n",
    "# Hint: Read https://pandas.pydata.org/docs/reference/api/pandas.pivot_table.html\n",
    "df2 = df.pivot_table( values= 'age', index = 'y' , aggfunc=np.mean).reset_index()\n",
    "print(df2)"
   ]
  },
  {
   "cell_type": "code",
   "execution_count": 141,
   "id": "753d89fa",
   "metadata": {},
   "outputs": [
    {
     "data": {
      "text/plain": [
       "<BarContainer object of 2 artists>"
      ]
     },
     "execution_count": 141,
     "metadata": {},
     "output_type": "execute_result"
    },
    {
     "data": {
      "image/png": "[encoded data removed]",
      "text/plain": [
       "<Figure size 640x480 with 1 Axes>"
      ]
     },
     "metadata": {},
     "output_type": "display_data"
    }
   ],
   "source": [
    "import matplotlib.pyplot as plt\n",
    "#labels = df2[\"y\"].unique()\n",
    "#values = df2[\"age\"].value_counts().to_list()\n",
    "plt.bar(df2['y'], height = df2['age'])"
   ]
  },
  {
   "cell_type": "code",
   "execution_count": 23,
   "id": "4db80ebc-623e-424b-8958-bc21f7fae656",
   "metadata": {},
   "outputs": [
    {
     "data": {
      "text/plain": [
       "Text(0, 0.5, 'age')"
      ]
     },
     "execution_count": 23,
     "metadata": {},
     "output_type": "execute_result"
    },
    {
     "data": {
      "image/png": "[encoded data removed]",
      "text/plain": [
       "<Figure size 640x480 with 1 Axes>"
      ]
     },
     "metadata": {},
     "output_type": "display_data"
    }
   ],
   "source": [
    "# exercise: generate a barplot with \"y\" on the x-axis (category) and average \"age\" on the y-axis\n",
    "# Hint: Read https://matplotlib.org/stable/api/_as_gen/matplotlib.pyplot.bar.html\n",
    "import matplotlib.pyplot as plt\n",
    "plt.bar(df2)\n"
   ]
  }
 ],
 "metadata": {
  "kernelspec": {
   "display_name": "Python 3 (ipykernel)",
   "language": "python",
   "name": "python3"
  },
  "language_info": {
   "codemirror_mode": {
    "name": "ipython",
    "version": 3
   },
   "file_extension": ".py",
   "mimetype": "text/x-python",
   "name": "python",
   "nbconvert_exporter": "python",
   "pygments_lexer": "ipython3",
   "version": "3.10.9"
  }
 },
 "nbformat": 4,
 "nbformat_minor": 5
}
